{
  "nbformat": 4,
  "nbformat_minor": 0,
  "metadata": {
    "colab": {
      "provenance": []
    },
    "kernelspec": {
      "name": "python3",
      "display_name": "Python 3"
    },
    "language_info": {
      "name": "python"
    }
  },
  "cells": [
    {
      "cell_type": "code",
      "execution_count": 19,
      "metadata": {
        "colab": {
          "base_uri": "https://localhost:8080/"
        },
        "id": "d9fSxFh2HzUo",
        "outputId": "411e67ae-e9e8-469c-c894-b60567c5b987"
      },
      "outputs": [
        {
          "output_type": "stream",
          "name": "stdout",
          "text": [
            "negativo\n",
            "ímpar\n",
            "maior de idade\n"
          ]
        },
        {
          "output_type": "execute_result",
          "data": {
            "text/plain": [
              "[5, 5, 5]"
            ]
          },
          "metadata": {},
          "execution_count": 19
        }
      ],
      "source": [
        "class Validacao():\n",
        "  def __init__(self, nome, idade, sexo, numero_chamada, serie, ano_colegio, cidade, estado, pais):\n",
        "        self.nome = nome\n",
        "        self.idade = idade\n",
        "        self.sexo = sexo\n",
        "        self.numero_chamada = numero_chamada\n",
        "        self.serie = serie\n",
        "        self.ano_colegio = ano_colegio\n",
        "        self.cidade = cidade\n",
        "        self.estado = estado\n",
        "        self.pais = pais\n",
        "\n",
        "  def verificar_positivo(self, numero):\n",
        "      if numero > 0:\n",
        "          return True\n",
        "\n",
        "  def verificar_numero(self, numero):\n",
        "      if numero > 0:\n",
        "          print(\"positivo\")\n",
        "      elif numero < 0:\n",
        "          print(\"negativo\")\n",
        "      else:\n",
        "          print(\"zero\")\n",
        "\n",
        "  def verificar_par_impar(self, numero):\n",
        "      if numero % 2 == 0:\n",
        "          print(\"par\")\n",
        "      else:\n",
        "           print(\"ímpar\")\n",
        "\n",
        "  def verificar_idade(self, idade):\n",
        "      if idade >= 0 and idade <= 100:\n",
        "          print(\"maior de idade\")\n",
        "      else:\n",
        "          print(\"menor de idade\")\n",
        "\n",
        "  def categorizar_pessoa(self, nome, idade):\n",
        "      if idade <= 2:\n",
        "          return f\"{nome} é um bebê.\"\n",
        "      elif idade <= 12:\n",
        "          return f\"{nome} é uma criança.\"\n",
        "      elif idade <= 19:\n",
        "          return f\"{nome} é um adolescente.\"\n",
        "      elif idade <= 59:\n",
        "          return f\"{nome} é um adulto.\"\n",
        "      else:\n",
        "          return f\"{nome} é um idoso.\"\n",
        "\n",
        "  def valida_comprimento_minimo(self, string):\n",
        "      if len(string) >= 5:\n",
        "          return True\n",
        "      else:\n",
        "          return False\n",
        "  def contar_caracteres(self, string):\n",
        "    return len(string)\n",
        "\n",
        "  def contar_caracteres_array(self, array):\n",
        "    comprimentos = []\n",
        "    for elemento in array:\n",
        "        comprimentos.append(len(elemento))\n",
        "    return comprimentos\n",
        "\n",
        "  def verifica_intervalo(self, numero, limite_inferior, limite_superior):\n",
        "    if numero >= limite_inferior and numero <= limite_superior:\n",
        "        return True\n",
        "    else:\n",
        "        return False\n",
        "\n",
        "obj = Validacao(\"Luana\", \"17 anos\",\"Feminino\", 12, \"3°ano do ensino médio\",2024, \"Cruzeiro do Oeste\", \"Paraná\", \"Brasil\")\n",
        "obj.verificar_positivo(5)\n",
        "obj.verificar_numero(-5)\n",
        "obj.verificar_par_impar(5)\n",
        "obj.verificar_idade(17)\n",
        "obj.categorizar_pessoa(\"Luana\", 18)\n",
        "obj.valida_comprimento_minimo(\"Luana\")\n",
        "obj.contar_caracteres(\"Luana\")\n",
        "obj.contar_caracteres_array([\"Luana\", \"Luana\", \"Luana\"])\n",
        "\n"
      ]
    }
  ]
}